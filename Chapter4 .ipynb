{
 "cells": [
  {
   "cell_type": "code",
   "execution_count": 1,
   "metadata": {},
   "outputs": [
    {
     "data": {
      "text/plain": [
       "array([[ 0.42231593, -0.23052559,  1.22852726],\n",
       "       [ 1.76660331, -0.19394722, -0.56236289]])"
      ]
     },
     "execution_count": 1,
     "metadata": {},
     "output_type": "execute_result"
    }
   ],
   "source": [
    "import numpy as np\n",
    "data=np.random.randn(2,3)\n",
    "data"
   ]
  },
  {
   "cell_type": "code",
   "execution_count": 2,
   "metadata": {},
   "outputs": [
    {
     "data": {
      "text/plain": [
       "dtype('float64')"
      ]
     },
     "execution_count": 2,
     "metadata": {},
     "output_type": "execute_result"
    }
   ],
   "source": [
    "data.dtype"
   ]
  },
  {
   "cell_type": "code",
   "execution_count": 3,
   "metadata": {},
   "outputs": [
    {
     "data": {
      "text/plain": [
       "(2, 3)"
      ]
     },
     "execution_count": 3,
     "metadata": {},
     "output_type": "execute_result"
    }
   ],
   "source": [
    "data.shape"
   ]
  },
  {
   "cell_type": "code",
   "execution_count": 4,
   "metadata": {},
   "outputs": [
    {
     "data": {
      "text/plain": [
       "array([1, 2, 3, 4])"
      ]
     },
     "execution_count": 4,
     "metadata": {},
     "output_type": "execute_result"
    }
   ],
   "source": [
    "data1=[1,2,3,4]\n",
    "arr1=np.array(data1)\n",
    "arr1"
   ]
  },
  {
   "cell_type": "code",
   "execution_count": 5,
   "metadata": {},
   "outputs": [
    {
     "data": {
      "text/plain": [
       "array([[1, 2],\n",
       "       [3, 4]])"
      ]
     },
     "execution_count": 5,
     "metadata": {},
     "output_type": "execute_result"
    }
   ],
   "source": [
    "data2=[[1,2],[3,4]]\n",
    "arr2=np.array(data2)\n",
    "arr2"
   ]
  },
  {
   "cell_type": "code",
   "execution_count": 6,
   "metadata": {},
   "outputs": [
    {
     "data": {
      "text/plain": [
       "2"
      ]
     },
     "execution_count": 6,
     "metadata": {},
     "output_type": "execute_result"
    }
   ],
   "source": [
    "arr2.ndim #矩阵维度"
   ]
  },
  {
   "cell_type": "code",
   "execution_count": 7,
   "metadata": {},
   "outputs": [
    {
     "data": {
      "text/plain": [
       "array([[1., 2.],\n",
       "       [3., 4.]])"
      ]
     },
     "execution_count": 7,
     "metadata": {},
     "output_type": "execute_result"
    }
   ],
   "source": [
    "arr2.astype(np.float64) #dtype转换"
   ]
  },
  {
   "cell_type": "code",
   "execution_count": 8,
   "metadata": {},
   "outputs": [
    {
     "data": {
      "text/plain": [
       "[1, 4, 9, 31, 1515, 1516]"
      ]
     },
     "execution_count": 8,
     "metadata": {},
     "output_type": "execute_result"
    }
   ],
   "source": [
    "data=[1,9,31,1515,1516,4]\n",
    "length=len(data)\n",
    "for i in range(length-1):\n",
    "    for j in range(length-i-1):\n",
    "        if data[j]>data[j+1]:\n",
    "            data[j],data[j+1]=data[j+1],data[j]\n",
    "data"
   ]
  },
  {
   "cell_type": "code",
   "execution_count": 9,
   "metadata": {},
   "outputs": [
    {
     "data": {
      "text/plain": [
       "array([ 1,  2,  4, 10,  9, 10])"
      ]
     },
     "execution_count": 9,
     "metadata": {},
     "output_type": "execute_result"
    }
   ],
   "source": [
    "arr=np.array([1,2,4,5,9,10])\n",
    "arr_slice=arr[2:4]\n",
    "arr_slice[1]=10 #修改切片，变动亦会传递到原数组\n",
    "arr             #使用arr[5:8].copy()以获得副本"
   ]
  },
  {
   "cell_type": "code",
   "execution_count": 10,
   "metadata": {},
   "outputs": [
    {
     "data": {
      "text/plain": [
       "array([[1],\n",
       "       [4],\n",
       "       [7]])"
      ]
     },
     "execution_count": 10,
     "metadata": {},
     "output_type": "execute_result"
    }
   ],
   "source": [
    "arr2d=np.array([[1,2,3],[4,5,6],[7,8,9]])\n",
    "arr2d[:,:1]"
   ]
  },
  {
   "cell_type": "code",
   "execution_count": 11,
   "metadata": {},
   "outputs": [
    {
     "data": {
      "text/plain": [
       "array([False, False,  True, False,  True, False, False])"
      ]
     },
     "execution_count": 11,
     "metadata": {},
     "output_type": "execute_result"
    }
   ],
   "source": [
    "names = np.array(['Bob', 'Joe', 'Will', 'Bob', 'Will', 'Joe', 'Joe'])\n",
    "names == 'Will'"
   ]
  },
  {
   "cell_type": "code",
   "execution_count": 12,
   "metadata": {},
   "outputs": [
    {
     "data": {
      "text/plain": [
       "array([[ 0,  1,  2,  3],\n",
       "       [ 4,  5,  6,  7],\n",
       "       [ 8,  9, 10, 11],\n",
       "       [12, 13, 14, 15],\n",
       "       [16, 17, 18, 19],\n",
       "       [20, 21, 22, 23],\n",
       "       [24, 25, 26, 27],\n",
       "       [28, 29, 30, 31]])"
      ]
     },
     "execution_count": 12,
     "metadata": {},
     "output_type": "execute_result"
    }
   ],
   "source": [
    "arr=np.arange(32).reshape(8,4)\n",
    "arr"
   ]
  },
  {
   "cell_type": "code",
   "execution_count": 13,
   "metadata": {},
   "outputs": [
    {
     "data": {
      "text/plain": [
       "array([[ 0,  5, 10],\n",
       "       [ 1,  6, 11],\n",
       "       [ 2,  7, 12],\n",
       "       [ 3,  8, 13],\n",
       "       [ 4,  9, 14]])"
      ]
     },
     "execution_count": 13,
     "metadata": {},
     "output_type": "execute_result"
    }
   ],
   "source": [
    "arr=np.arange(15).reshape(3,5)\n",
    "arr.T"
   ]
  },
  {
   "cell_type": "code",
   "execution_count": 14,
   "metadata": {},
   "outputs": [
    {
     "data": {
      "text/plain": [
       "array([[125, 140, 155, 170, 185],\n",
       "       [140, 158, 176, 194, 212],\n",
       "       [155, 176, 197, 218, 239],\n",
       "       [170, 194, 218, 242, 266],\n",
       "       [185, 212, 239, 266, 293]])"
      ]
     },
     "execution_count": 14,
     "metadata": {},
     "output_type": "execute_result"
    }
   ],
   "source": [
    "np.dot(arr.T,arr)#矩阵内积"
   ]
  },
  {
   "cell_type": "code",
   "execution_count": 15,
   "metadata": {},
   "outputs": [
    {
     "data": {
      "text/plain": [
       "array([[-1.00000000e+00, -9.00000000e-01, -8.00000000e-01,\n",
       "        -7.00000000e-01, -6.00000000e-01, -5.00000000e-01,\n",
       "        -4.00000000e-01, -3.00000000e-01, -2.00000000e-01,\n",
       "        -1.00000000e-01, -2.22044605e-16,  1.00000000e-01,\n",
       "         2.00000000e-01,  3.00000000e-01,  4.00000000e-01,\n",
       "         5.00000000e-01,  6.00000000e-01,  7.00000000e-01,\n",
       "         8.00000000e-01,  9.00000000e-01],\n",
       "       [-1.00000000e+00, -9.00000000e-01, -8.00000000e-01,\n",
       "        -7.00000000e-01, -6.00000000e-01, -5.00000000e-01,\n",
       "        -4.00000000e-01, -3.00000000e-01, -2.00000000e-01,\n",
       "        -1.00000000e-01, -2.22044605e-16,  1.00000000e-01,\n",
       "         2.00000000e-01,  3.00000000e-01,  4.00000000e-01,\n",
       "         5.00000000e-01,  6.00000000e-01,  7.00000000e-01,\n",
       "         8.00000000e-01,  9.00000000e-01],\n",
       "       [-1.00000000e+00, -9.00000000e-01, -8.00000000e-01,\n",
       "        -7.00000000e-01, -6.00000000e-01, -5.00000000e-01,\n",
       "        -4.00000000e-01, -3.00000000e-01, -2.00000000e-01,\n",
       "        -1.00000000e-01, -2.22044605e-16,  1.00000000e-01,\n",
       "         2.00000000e-01,  3.00000000e-01,  4.00000000e-01,\n",
       "         5.00000000e-01,  6.00000000e-01,  7.00000000e-01,\n",
       "         8.00000000e-01,  9.00000000e-01],\n",
       "       [-1.00000000e+00, -9.00000000e-01, -8.00000000e-01,\n",
       "        -7.00000000e-01, -6.00000000e-01, -5.00000000e-01,\n",
       "        -4.00000000e-01, -3.00000000e-01, -2.00000000e-01,\n",
       "        -1.00000000e-01, -2.22044605e-16,  1.00000000e-01,\n",
       "         2.00000000e-01,  3.00000000e-01,  4.00000000e-01,\n",
       "         5.00000000e-01,  6.00000000e-01,  7.00000000e-01,\n",
       "         8.00000000e-01,  9.00000000e-01],\n",
       "       [-1.00000000e+00, -9.00000000e-01, -8.00000000e-01,\n",
       "        -7.00000000e-01, -6.00000000e-01, -5.00000000e-01,\n",
       "        -4.00000000e-01, -3.00000000e-01, -2.00000000e-01,\n",
       "        -1.00000000e-01, -2.22044605e-16,  1.00000000e-01,\n",
       "         2.00000000e-01,  3.00000000e-01,  4.00000000e-01,\n",
       "         5.00000000e-01,  6.00000000e-01,  7.00000000e-01,\n",
       "         8.00000000e-01,  9.00000000e-01],\n",
       "       [-1.00000000e+00, -9.00000000e-01, -8.00000000e-01,\n",
       "        -7.00000000e-01, -6.00000000e-01, -5.00000000e-01,\n",
       "        -4.00000000e-01, -3.00000000e-01, -2.00000000e-01,\n",
       "        -1.00000000e-01, -2.22044605e-16,  1.00000000e-01,\n",
       "         2.00000000e-01,  3.00000000e-01,  4.00000000e-01,\n",
       "         5.00000000e-01,  6.00000000e-01,  7.00000000e-01,\n",
       "         8.00000000e-01,  9.00000000e-01],\n",
       "       [-1.00000000e+00, -9.00000000e-01, -8.00000000e-01,\n",
       "        -7.00000000e-01, -6.00000000e-01, -5.00000000e-01,\n",
       "        -4.00000000e-01, -3.00000000e-01, -2.00000000e-01,\n",
       "        -1.00000000e-01, -2.22044605e-16,  1.00000000e-01,\n",
       "         2.00000000e-01,  3.00000000e-01,  4.00000000e-01,\n",
       "         5.00000000e-01,  6.00000000e-01,  7.00000000e-01,\n",
       "         8.00000000e-01,  9.00000000e-01],\n",
       "       [-1.00000000e+00, -9.00000000e-01, -8.00000000e-01,\n",
       "        -7.00000000e-01, -6.00000000e-01, -5.00000000e-01,\n",
       "        -4.00000000e-01, -3.00000000e-01, -2.00000000e-01,\n",
       "        -1.00000000e-01, -2.22044605e-16,  1.00000000e-01,\n",
       "         2.00000000e-01,  3.00000000e-01,  4.00000000e-01,\n",
       "         5.00000000e-01,  6.00000000e-01,  7.00000000e-01,\n",
       "         8.00000000e-01,  9.00000000e-01],\n",
       "       [-1.00000000e+00, -9.00000000e-01, -8.00000000e-01,\n",
       "        -7.00000000e-01, -6.00000000e-01, -5.00000000e-01,\n",
       "        -4.00000000e-01, -3.00000000e-01, -2.00000000e-01,\n",
       "        -1.00000000e-01, -2.22044605e-16,  1.00000000e-01,\n",
       "         2.00000000e-01,  3.00000000e-01,  4.00000000e-01,\n",
       "         5.00000000e-01,  6.00000000e-01,  7.00000000e-01,\n",
       "         8.00000000e-01,  9.00000000e-01],\n",
       "       [-1.00000000e+00, -9.00000000e-01, -8.00000000e-01,\n",
       "        -7.00000000e-01, -6.00000000e-01, -5.00000000e-01,\n",
       "        -4.00000000e-01, -3.00000000e-01, -2.00000000e-01,\n",
       "        -1.00000000e-01, -2.22044605e-16,  1.00000000e-01,\n",
       "         2.00000000e-01,  3.00000000e-01,  4.00000000e-01,\n",
       "         5.00000000e-01,  6.00000000e-01,  7.00000000e-01,\n",
       "         8.00000000e-01,  9.00000000e-01],\n",
       "       [-1.00000000e+00, -9.00000000e-01, -8.00000000e-01,\n",
       "        -7.00000000e-01, -6.00000000e-01, -5.00000000e-01,\n",
       "        -4.00000000e-01, -3.00000000e-01, -2.00000000e-01,\n",
       "        -1.00000000e-01, -2.22044605e-16,  1.00000000e-01,\n",
       "         2.00000000e-01,  3.00000000e-01,  4.00000000e-01,\n",
       "         5.00000000e-01,  6.00000000e-01,  7.00000000e-01,\n",
       "         8.00000000e-01,  9.00000000e-01],\n",
       "       [-1.00000000e+00, -9.00000000e-01, -8.00000000e-01,\n",
       "        -7.00000000e-01, -6.00000000e-01, -5.00000000e-01,\n",
       "        -4.00000000e-01, -3.00000000e-01, -2.00000000e-01,\n",
       "        -1.00000000e-01, -2.22044605e-16,  1.00000000e-01,\n",
       "         2.00000000e-01,  3.00000000e-01,  4.00000000e-01,\n",
       "         5.00000000e-01,  6.00000000e-01,  7.00000000e-01,\n",
       "         8.00000000e-01,  9.00000000e-01],\n",
       "       [-1.00000000e+00, -9.00000000e-01, -8.00000000e-01,\n",
       "        -7.00000000e-01, -6.00000000e-01, -5.00000000e-01,\n",
       "        -4.00000000e-01, -3.00000000e-01, -2.00000000e-01,\n",
       "        -1.00000000e-01, -2.22044605e-16,  1.00000000e-01,\n",
       "         2.00000000e-01,  3.00000000e-01,  4.00000000e-01,\n",
       "         5.00000000e-01,  6.00000000e-01,  7.00000000e-01,\n",
       "         8.00000000e-01,  9.00000000e-01],\n",
       "       [-1.00000000e+00, -9.00000000e-01, -8.00000000e-01,\n",
       "        -7.00000000e-01, -6.00000000e-01, -5.00000000e-01,\n",
       "        -4.00000000e-01, -3.00000000e-01, -2.00000000e-01,\n",
       "        -1.00000000e-01, -2.22044605e-16,  1.00000000e-01,\n",
       "         2.00000000e-01,  3.00000000e-01,  4.00000000e-01,\n",
       "         5.00000000e-01,  6.00000000e-01,  7.00000000e-01,\n",
       "         8.00000000e-01,  9.00000000e-01],\n",
       "       [-1.00000000e+00, -9.00000000e-01, -8.00000000e-01,\n",
       "        -7.00000000e-01, -6.00000000e-01, -5.00000000e-01,\n",
       "        -4.00000000e-01, -3.00000000e-01, -2.00000000e-01,\n",
       "        -1.00000000e-01, -2.22044605e-16,  1.00000000e-01,\n",
       "         2.00000000e-01,  3.00000000e-01,  4.00000000e-01,\n",
       "         5.00000000e-01,  6.00000000e-01,  7.00000000e-01,\n",
       "         8.00000000e-01,  9.00000000e-01],\n",
       "       [-1.00000000e+00, -9.00000000e-01, -8.00000000e-01,\n",
       "        -7.00000000e-01, -6.00000000e-01, -5.00000000e-01,\n",
       "        -4.00000000e-01, -3.00000000e-01, -2.00000000e-01,\n",
       "        -1.00000000e-01, -2.22044605e-16,  1.00000000e-01,\n",
       "         2.00000000e-01,  3.00000000e-01,  4.00000000e-01,\n",
       "         5.00000000e-01,  6.00000000e-01,  7.00000000e-01,\n",
       "         8.00000000e-01,  9.00000000e-01],\n",
       "       [-1.00000000e+00, -9.00000000e-01, -8.00000000e-01,\n",
       "        -7.00000000e-01, -6.00000000e-01, -5.00000000e-01,\n",
       "        -4.00000000e-01, -3.00000000e-01, -2.00000000e-01,\n",
       "        -1.00000000e-01, -2.22044605e-16,  1.00000000e-01,\n",
       "         2.00000000e-01,  3.00000000e-01,  4.00000000e-01,\n",
       "         5.00000000e-01,  6.00000000e-01,  7.00000000e-01,\n",
       "         8.00000000e-01,  9.00000000e-01],\n",
       "       [-1.00000000e+00, -9.00000000e-01, -8.00000000e-01,\n",
       "        -7.00000000e-01, -6.00000000e-01, -5.00000000e-01,\n",
       "        -4.00000000e-01, -3.00000000e-01, -2.00000000e-01,\n",
       "        -1.00000000e-01, -2.22044605e-16,  1.00000000e-01,\n",
       "         2.00000000e-01,  3.00000000e-01,  4.00000000e-01,\n",
       "         5.00000000e-01,  6.00000000e-01,  7.00000000e-01,\n",
       "         8.00000000e-01,  9.00000000e-01],\n",
       "       [-1.00000000e+00, -9.00000000e-01, -8.00000000e-01,\n",
       "        -7.00000000e-01, -6.00000000e-01, -5.00000000e-01,\n",
       "        -4.00000000e-01, -3.00000000e-01, -2.00000000e-01,\n",
       "        -1.00000000e-01, -2.22044605e-16,  1.00000000e-01,\n",
       "         2.00000000e-01,  3.00000000e-01,  4.00000000e-01,\n",
       "         5.00000000e-01,  6.00000000e-01,  7.00000000e-01,\n",
       "         8.00000000e-01,  9.00000000e-01],\n",
       "       [-1.00000000e+00, -9.00000000e-01, -8.00000000e-01,\n",
       "        -7.00000000e-01, -6.00000000e-01, -5.00000000e-01,\n",
       "        -4.00000000e-01, -3.00000000e-01, -2.00000000e-01,\n",
       "        -1.00000000e-01, -2.22044605e-16,  1.00000000e-01,\n",
       "         2.00000000e-01,  3.00000000e-01,  4.00000000e-01,\n",
       "         5.00000000e-01,  6.00000000e-01,  7.00000000e-01,\n",
       "         8.00000000e-01,  9.00000000e-01]])"
      ]
     },
     "execution_count": 15,
     "metadata": {},
     "output_type": "execute_result"
    }
   ],
   "source": [
    "points=np.arange(-1,1,0.1)\n",
    "xs,ys=np.meshgrid(points,points)\n",
    "xs"
   ]
  },
  {
   "cell_type": "code",
   "execution_count": 16,
   "metadata": {},
   "outputs": [
    {
     "data": {
      "text/plain": [
       "array([[1.41421356e+00, 1.34536240e+00, 1.28062485e+00, 1.22065556e+00,\n",
       "        1.16619038e+00, 1.11803399e+00, 1.07703296e+00, 1.04403065e+00,\n",
       "        1.01980390e+00, 1.00498756e+00, 1.00000000e+00, 1.00498756e+00,\n",
       "        1.01980390e+00, 1.04403065e+00, 1.07703296e+00, 1.11803399e+00,\n",
       "        1.16619038e+00, 1.22065556e+00, 1.28062485e+00, 1.34536240e+00],\n",
       "       [1.34536240e+00, 1.27279221e+00, 1.20415946e+00, 1.14017543e+00,\n",
       "        1.08166538e+00, 1.02956301e+00, 9.84885780e-01, 9.48683298e-01,\n",
       "        9.21954446e-01, 9.05538514e-01, 9.00000000e-01, 9.05538514e-01,\n",
       "        9.21954446e-01, 9.48683298e-01, 9.84885780e-01, 1.02956301e+00,\n",
       "        1.08166538e+00, 1.14017543e+00, 1.20415946e+00, 1.27279221e+00],\n",
       "       [1.28062485e+00, 1.20415946e+00, 1.13137085e+00, 1.06301458e+00,\n",
       "        1.00000000e+00, 9.43398113e-01, 8.94427191e-01, 8.54400375e-01,\n",
       "        8.24621125e-01, 8.06225775e-01, 8.00000000e-01, 8.06225775e-01,\n",
       "        8.24621125e-01, 8.54400375e-01, 8.94427191e-01, 9.43398113e-01,\n",
       "        1.00000000e+00, 1.06301458e+00, 1.13137085e+00, 1.20415946e+00],\n",
       "       [1.22065556e+00, 1.14017543e+00, 1.06301458e+00, 9.89949494e-01,\n",
       "        9.21954446e-01, 8.60232527e-01, 8.06225775e-01, 7.61577311e-01,\n",
       "        7.28010989e-01, 7.07106781e-01, 7.00000000e-01, 7.07106781e-01,\n",
       "        7.28010989e-01, 7.61577311e-01, 8.06225775e-01, 8.60232527e-01,\n",
       "        9.21954446e-01, 9.89949494e-01, 1.06301458e+00, 1.14017543e+00],\n",
       "       [1.16619038e+00, 1.08166538e+00, 1.00000000e+00, 9.21954446e-01,\n",
       "        8.48528137e-01, 7.81024968e-01, 7.21110255e-01, 6.70820393e-01,\n",
       "        6.32455532e-01, 6.08276253e-01, 6.00000000e-01, 6.08276253e-01,\n",
       "        6.32455532e-01, 6.70820393e-01, 7.21110255e-01, 7.81024968e-01,\n",
       "        8.48528137e-01, 9.21954446e-01, 1.00000000e+00, 1.08166538e+00],\n",
       "       [1.11803399e+00, 1.02956301e+00, 9.43398113e-01, 8.60232527e-01,\n",
       "        7.81024968e-01, 7.07106781e-01, 6.40312424e-01, 5.83095189e-01,\n",
       "        5.38516481e-01, 5.09901951e-01, 5.00000000e-01, 5.09901951e-01,\n",
       "        5.38516481e-01, 5.83095189e-01, 6.40312424e-01, 7.07106781e-01,\n",
       "        7.81024968e-01, 8.60232527e-01, 9.43398113e-01, 1.02956301e+00],\n",
       "       [1.07703296e+00, 9.84885780e-01, 8.94427191e-01, 8.06225775e-01,\n",
       "        7.21110255e-01, 6.40312424e-01, 5.65685425e-01, 5.00000000e-01,\n",
       "        4.47213595e-01, 4.12310563e-01, 4.00000000e-01, 4.12310563e-01,\n",
       "        4.47213595e-01, 5.00000000e-01, 5.65685425e-01, 6.40312424e-01,\n",
       "        7.21110255e-01, 8.06225775e-01, 8.94427191e-01, 9.84885780e-01],\n",
       "       [1.04403065e+00, 9.48683298e-01, 8.54400375e-01, 7.61577311e-01,\n",
       "        6.70820393e-01, 5.83095189e-01, 5.00000000e-01, 4.24264069e-01,\n",
       "        3.60555128e-01, 3.16227766e-01, 3.00000000e-01, 3.16227766e-01,\n",
       "        3.60555128e-01, 4.24264069e-01, 5.00000000e-01, 5.83095189e-01,\n",
       "        6.70820393e-01, 7.61577311e-01, 8.54400375e-01, 9.48683298e-01],\n",
       "       [1.01980390e+00, 9.21954446e-01, 8.24621125e-01, 7.28010989e-01,\n",
       "        6.32455532e-01, 5.38516481e-01, 4.47213595e-01, 3.60555128e-01,\n",
       "        2.82842712e-01, 2.23606798e-01, 2.00000000e-01, 2.23606798e-01,\n",
       "        2.82842712e-01, 3.60555128e-01, 4.47213595e-01, 5.38516481e-01,\n",
       "        6.32455532e-01, 7.28010989e-01, 8.24621125e-01, 9.21954446e-01],\n",
       "       [1.00498756e+00, 9.05538514e-01, 8.06225775e-01, 7.07106781e-01,\n",
       "        6.08276253e-01, 5.09901951e-01, 4.12310563e-01, 3.16227766e-01,\n",
       "        2.23606798e-01, 1.41421356e-01, 1.00000000e-01, 1.41421356e-01,\n",
       "        2.23606798e-01, 3.16227766e-01, 4.12310563e-01, 5.09901951e-01,\n",
       "        6.08276253e-01, 7.07106781e-01, 8.06225775e-01, 9.05538514e-01],\n",
       "       [1.00000000e+00, 9.00000000e-01, 8.00000000e-01, 7.00000000e-01,\n",
       "        6.00000000e-01, 5.00000000e-01, 4.00000000e-01, 3.00000000e-01,\n",
       "        2.00000000e-01, 1.00000000e-01, 3.14018492e-16, 1.00000000e-01,\n",
       "        2.00000000e-01, 3.00000000e-01, 4.00000000e-01, 5.00000000e-01,\n",
       "        6.00000000e-01, 7.00000000e-01, 8.00000000e-01, 9.00000000e-01],\n",
       "       [1.00498756e+00, 9.05538514e-01, 8.06225775e-01, 7.07106781e-01,\n",
       "        6.08276253e-01, 5.09901951e-01, 4.12310563e-01, 3.16227766e-01,\n",
       "        2.23606798e-01, 1.41421356e-01, 1.00000000e-01, 1.41421356e-01,\n",
       "        2.23606798e-01, 3.16227766e-01, 4.12310563e-01, 5.09901951e-01,\n",
       "        6.08276253e-01, 7.07106781e-01, 8.06225775e-01, 9.05538514e-01],\n",
       "       [1.01980390e+00, 9.21954446e-01, 8.24621125e-01, 7.28010989e-01,\n",
       "        6.32455532e-01, 5.38516481e-01, 4.47213595e-01, 3.60555128e-01,\n",
       "        2.82842712e-01, 2.23606798e-01, 2.00000000e-01, 2.23606798e-01,\n",
       "        2.82842712e-01, 3.60555128e-01, 4.47213595e-01, 5.38516481e-01,\n",
       "        6.32455532e-01, 7.28010989e-01, 8.24621125e-01, 9.21954446e-01],\n",
       "       [1.04403065e+00, 9.48683298e-01, 8.54400375e-01, 7.61577311e-01,\n",
       "        6.70820393e-01, 5.83095189e-01, 5.00000000e-01, 4.24264069e-01,\n",
       "        3.60555128e-01, 3.16227766e-01, 3.00000000e-01, 3.16227766e-01,\n",
       "        3.60555128e-01, 4.24264069e-01, 5.00000000e-01, 5.83095189e-01,\n",
       "        6.70820393e-01, 7.61577311e-01, 8.54400375e-01, 9.48683298e-01],\n",
       "       [1.07703296e+00, 9.84885780e-01, 8.94427191e-01, 8.06225775e-01,\n",
       "        7.21110255e-01, 6.40312424e-01, 5.65685425e-01, 5.00000000e-01,\n",
       "        4.47213595e-01, 4.12310563e-01, 4.00000000e-01, 4.12310563e-01,\n",
       "        4.47213595e-01, 5.00000000e-01, 5.65685425e-01, 6.40312424e-01,\n",
       "        7.21110255e-01, 8.06225775e-01, 8.94427191e-01, 9.84885780e-01],\n",
       "       [1.11803399e+00, 1.02956301e+00, 9.43398113e-01, 8.60232527e-01,\n",
       "        7.81024968e-01, 7.07106781e-01, 6.40312424e-01, 5.83095189e-01,\n",
       "        5.38516481e-01, 5.09901951e-01, 5.00000000e-01, 5.09901951e-01,\n",
       "        5.38516481e-01, 5.83095189e-01, 6.40312424e-01, 7.07106781e-01,\n",
       "        7.81024968e-01, 8.60232527e-01, 9.43398113e-01, 1.02956301e+00],\n",
       "       [1.16619038e+00, 1.08166538e+00, 1.00000000e+00, 9.21954446e-01,\n",
       "        8.48528137e-01, 7.81024968e-01, 7.21110255e-01, 6.70820393e-01,\n",
       "        6.32455532e-01, 6.08276253e-01, 6.00000000e-01, 6.08276253e-01,\n",
       "        6.32455532e-01, 6.70820393e-01, 7.21110255e-01, 7.81024968e-01,\n",
       "        8.48528137e-01, 9.21954446e-01, 1.00000000e+00, 1.08166538e+00],\n",
       "       [1.22065556e+00, 1.14017543e+00, 1.06301458e+00, 9.89949494e-01,\n",
       "        9.21954446e-01, 8.60232527e-01, 8.06225775e-01, 7.61577311e-01,\n",
       "        7.28010989e-01, 7.07106781e-01, 7.00000000e-01, 7.07106781e-01,\n",
       "        7.28010989e-01, 7.61577311e-01, 8.06225775e-01, 8.60232527e-01,\n",
       "        9.21954446e-01, 9.89949494e-01, 1.06301458e+00, 1.14017543e+00],\n",
       "       [1.28062485e+00, 1.20415946e+00, 1.13137085e+00, 1.06301458e+00,\n",
       "        1.00000000e+00, 9.43398113e-01, 8.94427191e-01, 8.54400375e-01,\n",
       "        8.24621125e-01, 8.06225775e-01, 8.00000000e-01, 8.06225775e-01,\n",
       "        8.24621125e-01, 8.54400375e-01, 8.94427191e-01, 9.43398113e-01,\n",
       "        1.00000000e+00, 1.06301458e+00, 1.13137085e+00, 1.20415946e+00],\n",
       "       [1.34536240e+00, 1.27279221e+00, 1.20415946e+00, 1.14017543e+00,\n",
       "        1.08166538e+00, 1.02956301e+00, 9.84885780e-01, 9.48683298e-01,\n",
       "        9.21954446e-01, 9.05538514e-01, 9.00000000e-01, 9.05538514e-01,\n",
       "        9.21954446e-01, 9.48683298e-01, 9.84885780e-01, 1.02956301e+00,\n",
       "        1.08166538e+00, 1.14017543e+00, 1.20415946e+00, 1.27279221e+00]])"
      ]
     },
     "execution_count": 16,
     "metadata": {},
     "output_type": "execute_result"
    }
   ],
   "source": [
    "z=np.sqrt(xs**2+ys**2)\n",
    "z"
   ]
  },
  {
   "cell_type": "code",
   "execution_count": 18,
   "metadata": {},
   "outputs": [
    {
     "data": {
      "text/plain": [
       "<matplotlib.image.AxesImage at 0x226672a90f0>"
      ]
     },
     "execution_count": 18,
     "metadata": {},
     "output_type": "execute_result"
    },
    {
     "data": {
      "image/png": "[encoded data removed]",
      "text/plain": [
       "<Figure size 432x288 with 2 Axes>"
      ]
     },
     "metadata": {
      "needs_background": "light"
     },
     "output_type": "display_data"
    }
   ],
   "source": [
    "import matplotlib.pyplot as plt\n",
    "a=plt.imshow(z,cmap=plt.cm.gray)\n",
    "plt.colorbar()\n",
    "plt.title(\"Image plot of $\\sqrt{x^2 + y^2}$ for a grid of values\")\n",
    "a"
   ]
  },
  {
   "cell_type": "code",
   "execution_count": 19,
   "metadata": {},
   "outputs": [
    {
     "data": {
      "text/plain": [
       "array([    1, 23199, 23215, 29529, 34680], dtype=int32)"
      ]
     },
     "execution_count": 19,
     "metadata": {},
     "output_type": "execute_result"
    }
   ],
   "source": [
    "arr=np.array([1,23198,16,6314,5151])\n",
    "arr.cumsum()"
   ]
  },
  {
   "cell_type": "code",
   "execution_count": 20,
   "metadata": {},
   "outputs": [
    {
     "data": {
      "text/plain": [
       "4"
      ]
     },
     "execution_count": 20,
     "metadata": {},
     "output_type": "execute_result"
    }
   ],
   "source": [
    "arr=np.random.randn(10)\n",
    "(arr>0).sum()"
   ]
  },
  {
   "cell_type": "code",
   "execution_count": 21,
   "metadata": {},
   "outputs": [
    {
     "data": {
      "text/plain": [
       "array([[-1.71780023, -2.2363524 , -1.13162834],\n",
       "       [-1.2847582 , -1.86609995, -0.60305608],\n",
       "       [-0.85573757, -0.99238057, -0.26389837],\n",
       "       [ 0.49537063, -0.56400793,  0.29873857],\n",
       "       [ 0.82157914,  0.09674932,  1.70570643]])"
      ]
     },
     "execution_count": 21,
     "metadata": {},
     "output_type": "execute_result"
    }
   ],
   "source": [
    "arr=np.random.randn(5,3)\n",
    "arr.sort(0)\n",
    "arr"
   ]
  },
  {
   "cell_type": "code",
   "execution_count": 27,
   "metadata": {},
   "outputs": [
    {
     "data": {
      "text/plain": [
       "{1, 3, 41, 51}"
      ]
     },
     "execution_count": 27,
     "metadata": {},
     "output_type": "execute_result"
    }
   ],
   "source": [
    "arr=np.array=[1,1,1,3,41,51]\n",
    "set(arr)"
   ]
  },
  {
   "cell_type": "code",
   "execution_count": 2,
   "metadata": {},
   "outputs": [
    {
     "data": {
      "text/plain": [
       "array([[ 28,  64],\n",
       "       [ 67, 181]])"
      ]
     },
     "execution_count": 2,
     "metadata": {},
     "output_type": "execute_result"
    }
   ],
   "source": [
    "\n",
    "import numpy as np\n",
    "x = np.array([[1,2,3],[4,5,6]])\n",
    "y = np.array([[6,23],[-1,7],[8,9]])\n",
    "x.dot(y)\n",
    "np.dot(x, y)"
   ]
  },
  {
   "cell_type": "code",
   "execution_count": null,
   "metadata": {},
   "outputs": [],
   "source": [
    "arr=np.arange(10)\n",
    "np.save('arrrr',arr)"
   ]
  },
  {
   "cell_type": "code",
   "execution_count": null,
   "metadata": {},
   "outputs": [],
   "source": []
  }
 ],
 "metadata": {
  "kernelspec": {
   "display_name": "Python 3",
   "language": "python",
   "name": "python3"
  },
  "language_info": {
   "codemirror_mode": {
    "name": "ipython",
    "version": 3
   },
   "file_extension": ".py",
   "mimetype": "text/x-python",
   "name": "python",
   "nbconvert_exporter": "python",
   "pygments_lexer": "ipython3",
   "version": "3.7.1"
  }
 },
 "nbformat": 4,
 "nbformat_minor": 2
}
